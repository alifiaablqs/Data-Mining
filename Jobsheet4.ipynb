{
  "nbformat": 4,
  "nbformat_minor": 0,
  "metadata": {
    "colab": {
      "provenance": [],
      "authorship_tag": "ABX9TyO5R6TzKjibfIw07nP6JSiq",
      "include_colab_link": true
    },
    "kernelspec": {
      "name": "python3",
      "display_name": "Python 3"
    },
    "language_info": {
      "name": "python"
    }
  },
  "cells": [
    {
      "cell_type": "markdown",
      "metadata": {
        "id": "view-in-github",
        "colab_type": "text"
      },
      "source": [
        "<a href=\"https://colab.research.google.com/github/alifiaablqs/Data-Mining/blob/main/Jobsheet4.ipynb\" target=\"_parent\"><img src=\"https://colab.research.google.com/assets/colab-badge.svg\" alt=\"Open In Colab\"/></a>"
      ]
    },
    {
      "cell_type": "code",
      "execution_count": 1,
      "metadata": {
        "id": "xB5reeOlBfY7"
      },
      "outputs": [],
      "source": [
        "import numpy as np"
      ]
    },
    {
      "cell_type": "code",
      "source": [
        "data = [7,8,5,4,11,42,67,-32,2,6,-9,200]"
      ],
      "metadata": {
        "id": "F5laq5ZXBmru"
      },
      "execution_count": 2,
      "outputs": []
    },
    {
      "cell_type": "code",
      "source": [
        "Q1 = np.quantile(data, .25)\n",
        "Q3 = np.quantile(data, .75)"
      ],
      "metadata": {
        "id": "IajHa4bWCeoy"
      },
      "execution_count": 5,
      "outputs": []
    },
    {
      "cell_type": "code",
      "source": [
        "IQR = Q3 - Q1"
      ],
      "metadata": {
        "id": "MJP55omiCbRa"
      },
      "execution_count": 6,
      "outputs": []
    },
    {
      "cell_type": "code",
      "source": [
        "print('Kuartil 1 = ', Q1)\n",
        "print('Kuartil 3 = ', Q3)\n",
        "print('IQR = ', IQR)"
      ],
      "metadata": {
        "colab": {
          "base_uri": "https://localhost:8080/"
        },
        "id": "kA8AVf82CFX7",
        "outputId": "94a0c8a0-f8c6-45a3-e2a1-c70265e57eeb"
      },
      "execution_count": 7,
      "outputs": [
        {
          "output_type": "stream",
          "name": "stdout",
          "text": [
            "Kuartil 1 =  3.5\n",
            "Kuartil 3 =  18.75\n",
            "IQR =  15.25\n"
          ]
        }
      ]
    },
    {
      "cell_type": "code",
      "source": [
        "min_IQR = Q1 - 1.5 * IQR\n",
        "max_IQR = Q3 + 1.5 * IQR\n",
        "\n",
        "print('IQR minimum = ', min_IQR)\n",
        "print('IQR maximum = ', max_IQR)"
      ],
      "metadata": {
        "colab": {
          "base_uri": "https://localhost:8080/"
        },
        "id": "3VxR8dIACi5S",
        "outputId": "4e2ea0eb-a5e5-44bd-efa0-e2a998f9b851"
      },
      "execution_count": 8,
      "outputs": [
        {
          "output_type": "stream",
          "name": "stdout",
          "text": [
            "IQR minimum =  -19.375\n",
            "IQR maximum =  41.625\n"
          ]
        }
      ]
    },
    {
      "cell_type": "code",
      "source": [
        "nilai_min = np.min(data)\n",
        "nilai_max = np.max(data)\n",
        "\n",
        "print('Nilai minimum data = ', nilai_min)\n",
        "print('Nilai maximum data = ', nilai_max)"
      ],
      "metadata": {
        "colab": {
          "base_uri": "https://localhost:8080/"
        },
        "id": "4mte216gDD-C",
        "outputId": "c911ab1d-f81e-442f-d5af-8d8eb9b5ecf4"
      },
      "execution_count": 9,
      "outputs": [
        {
          "output_type": "stream",
          "name": "stdout",
          "text": [
            "Nilai minimum data =  -32\n",
            "Nilai maximum data =  200\n"
          ]
        }
      ]
    },
    {
      "cell_type": "code",
      "source": [
        "if (nilai_min < min_IQR):\n",
        "    print('Ditemukan low outlier!')\n",
        "else:\n",
        "    print('Tidak ditemukan low outlier!')\n",
        "\n",
        "if (nilai_max > max_IQR):\n",
        "    print('Ditemukan high outlier!')\n",
        "else:\n",
        "    print('Tidak ditemukan high outlier!')\n",
        ""
      ],
      "metadata": {
        "colab": {
          "base_uri": "https://localhost:8080/"
        },
        "id": "xO2IGiuWDGYj",
        "outputId": "1114e85f-1b26-4715-dcff-0f075eedcb29"
      },
      "execution_count": 10,
      "outputs": [
        {
          "output_type": "stream",
          "name": "stdout",
          "text": [
            "Ditemukan low outlier!\n",
            "Ditemukan high outlier!\n"
          ]
        }
      ]
    },
    {
      "cell_type": "code",
      "source": [
        "low_out = []\n",
        "high_out = []\n",
        "\n",
        "for i in data:\n",
        "    if (i < min_IQR):\n",
        "        low_out.append(i)\n",
        "    if (i > max_IQR):\n",
        "        high_out.append(i)\n",
        "\n",
        "print('Low outlier : ', low_out)\n",
        "print('High outlier : ', high_out)"
      ],
      "metadata": {
        "colab": {
          "base_uri": "https://localhost:8080/"
        },
        "id": "eSy4ryVYDKIp",
        "outputId": "ce9050d3-08c3-4693-a7d5-ce6ce25bd5ec"
      },
      "execution_count": 11,
      "outputs": [
        {
          "output_type": "stream",
          "name": "stdout",
          "text": [
            "Low outlier :  [-32]\n",
            "High outlier :  [42, 67, 200]\n"
          ]
        }
      ]
    }
  ]
}